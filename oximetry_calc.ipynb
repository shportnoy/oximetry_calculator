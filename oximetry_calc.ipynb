{
 "cells": [
  {
   "cell_type": "code",
   "execution_count": 1,
   "metadata": {
    "collapsed": false
   },
   "outputs": [
    {
     "data": {
      "text/plain": [
       "{'Parameters: 1.5T, Adult': ['R1plas=0.41',\n",
       "  'R1ery0=0.94',\n",
       "  'r1_prime_dHb=0.17',\n",
       "  'R2plas=1.95',\n",
       "  'R2_dia_plus_R2_oxy=4.9',\n",
       "  'R2_deoxy_minus_R2_oxy=-2.0',\n",
       "  'w_dia_plus_w_oxy=-0.044',\n",
       "  'wdeo_minus_w_oxy=-0.69',\n",
       "  'tau=0.0029'],\n",
       " 'Parameters: 1.5T, Fetal': ['R1plas=0.44',\n",
       "  'R1ery0=0.95',\n",
       "  'r1_prime_dHb=0.29',\n",
       "  'R2plas=1.6',\n",
       "  'R2_dia_plus_R2_oxy=5.1',\n",
       "  'R2_deoxy_minus_R2_oxy=-3.1',\n",
       "  'w_dia_plus_w_oxy=-0.071',\n",
       "  'wdeo_minus_w_oxy=-0.62',\n",
       "  'tau=0.00227'],\n",
       " 'Parameters: 3T, Adult': ['R1plas=0.383',\n",
       "  'R1ery0=0.77',\n",
       "  'r1_prime_dHb=0.21',\n",
       "  'R2plas=2.6',\n",
       "  'R2_dia_plus_R2_oxy=8.1',\n",
       "  'R2_deoxy_minus_R2_oxy=19.3',\n",
       "  'w_dia_plus_w_oxy=-0.044',\n",
       "  'wdeo_minus_w_oxy=-0.69',\n",
       "  'tau=0.0029'],\n",
       " 'Parameters: 3T, Fetal': ['R1plas=0.36',\n",
       "  'R1ery0=0.77',\n",
       "  'r1_prime_dHb=0.21',\n",
       "  'R2plas=2.5',\n",
       "  'R2_dia_plus_R2_oxy=9.1',\n",
       "  'R2_deoxy_minus_R2_oxy=-13',\n",
       "  'w_dia_plus_w_oxy=-0.021',\n",
       "  'wdeo_minus_w_oxy=-0.603',\n",
       "  'tau=0.0028']}"
      ]
     },
     "execution_count": 1,
     "metadata": {},
     "output_type": "execute_result"
    }
   ],
   "source": [
    "#Read in model parameters from text file as a dictionary\n",
    "f=open('par_values.txt')\n",
    "data = {}\n",
    "for line in f:\n",
    "    line = line.strip()\n",
    "    if not line: continue\n",
    "\n",
    "    if line.startswith('Parameters'):\n",
    "        if line not in data: data[line] = []\n",
    "        heading = line\n",
    "        continue\n",
    "\n",
    "    data[heading].append(line)\n",
    "\n",
    "f.close()\n",
    "data"
   ]
  },
  {
   "cell_type": "code",
   "execution_count": null,
   "metadata": {
    "collapsed": true
   },
   "outputs": [],
   "source": []
  }
 ],
 "metadata": {
  "kernelspec": {
   "display_name": "Python 2",
   "language": "python",
   "name": "python2"
  },
  "language_info": {
   "codemirror_mode": {
    "name": "ipython",
    "version": 2
   },
   "file_extension": ".py",
   "mimetype": "text/x-python",
   "name": "python",
   "nbconvert_exporter": "python",
   "pygments_lexer": "ipython2",
   "version": "2.7.12"
  }
 },
 "nbformat": 4,
 "nbformat_minor": 0
}
