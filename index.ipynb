{
 "cells": [
  {
   "cell_type": "markdown",
   "metadata": {
    "collapsed": false
   },
   "source": [
    "# Read in parameter text file ('par_values.txt')"
   ]
  },
  {
   "cell_type": "code",
   "execution_count": 1,
   "metadata": {
    "collapsed": false
   },
   "outputs": [],
   "source": [
    "f = open('par_values.txt')\n",
    "par_dict = {}\n",
    "for line in f:\n",
    "    line = line.strip()\n",
    "    if not line: continue\n",
    "\n",
    "    if line.startswith('Parameters'):\n",
    "        if line not in par_dict: par_dict[line] = []\n",
    "        heading = line\n",
    "        continue\n",
    "    par_dict[heading].append(line)\n",
    "\n",
    "f.close()"
   ]
  },
  {
   "cell_type": "markdown",
   "metadata": {},
   "source": [
    "# Select appropriate parameters for blood type (adult vs. fetal) and field strength (1.5T vs. 3T)"
   ]
  },
  {
   "cell_type": "code",
   "execution_count": 2,
   "metadata": {
    "collapsed": false
   },
   "outputs": [],
   "source": [
    "import some_funcs as sf\n",
    "#Fetch parameters for fetal blood at 1.5T.\n",
    "model_pars = sf.fetch_model_pars(par_dict, blood_type='Fetal', field_strength='1.5')  "
   ]
  },
  {
   "cell_type": "markdown",
   "metadata": {},
   "source": [
    "# Calculate intermediate coefficients, accounting for refocusing interval of T<sub>2</sub> acquisition"
   ]
  },
  {
   "cell_type": "code",
   "execution_count": 3,
   "metadata": {
    "collapsed": false
   },
   "outputs": [],
   "source": [
    "coeff_list = sf.calc_coeffs(model_pars, tau_180=0.016) #tau_180 is refocusing interval (in seconds)"
   ]
  },
  {
   "cell_type": "markdown",
   "metadata": {},
   "source": [
    "# Calculate hematocrit (Hct) from oxygen-saturation (sO<sub>2</sub>) and T<sub>1</sub>:"
   ]
  },
  {
   "cell_type": "code",
   "execution_count": 4,
   "metadata": {
    "collapsed": false
   },
   "outputs": [
    {
     "name": "stdout",
     "output_type": "stream",
     "text": [
      "Hct=0.41\n"
     ]
    }
   ],
   "source": [
    "Hct = sf.Hct_from_sO2_T1(coeff_list, sO2=0.85, T1=1.5)"
   ]
  },
  {
   "cell_type": "markdown",
   "metadata": {},
   "source": [
    "# Calculate oxygen-saturation (sO<sub>2</sub>) from hematocrit (Hct) and T<sub>2</sub>: \n",
    "### NOTE: We are solving a quadratic, so there will be TWO solutions for sO<sub>2</sub>. Typically only one of these will be physical (i.e. 0&lt;sO<sub>2</sub>&lt;1)"
   ]
  },
  {
   "cell_type": "code",
   "execution_count": 5,
   "metadata": {
    "collapsed": false
   },
   "outputs": [
    {
     "name": "stdout",
     "output_type": "stream",
     "text": [
      "solution 1: sO2=0.32\n",
      "solution 2: sO2=1.79\n"
     ]
    }
   ],
   "source": [
    "sO2 = sf.sO2_from_Hct_T2(coeff_list, Hct=0.45, T2=0.1)"
   ]
  },
  {
   "cell_type": "markdown",
   "metadata": {},
   "source": [
    "# Calculate oxygen saturation (sO<sub>2</sub>) and hematocrit (Hct) from T<sub>1</sub> and T<sub>2</sub>: \n",
    "### NOTE: We are solving a cubic, so there will be THREE solutions for (sO<sub>2</sub>, Hct).  In most cases, only one solution will be physical (i.e. 0&lt;sO<sub>2</sub>&lt;1 AND 0&lt;Hct&lt;1).  "
   ]
  },
  {
   "cell_type": "code",
   "execution_count": 6,
   "metadata": {
    "collapsed": false
   },
   "outputs": [
    {
     "name": "stdout",
     "output_type": "stream",
     "text": [
      "solution 1: sO2 = 1.54 + 0.20i, Hct = 1.09 + 0.18i\n",
      "solution 2: sO2 = 1.54 - 0.20i, Hct = 1.09 - 0.18i\n",
      "solution 3: sO2 = 0.34, Hct = 0.56\n"
     ]
    }
   ],
   "source": [
    "Hct, sO2 = sf.Hct_sO2_from_T1_T2(coeff_list, T1=1.2, T2=0.1)"
   ]
  },
  {
   "cell_type": "markdown",
   "metadata": {},
   "source": [
    "## For interpretation of cases where there is no physical solution or more than one physical solution, please refer to: Portnoy et al, <i>Magn Reson Med</i>, 2017, doi: 10.1002/mrm.26599."
   ]
  }
 ],
 "metadata": {
  "kernelspec": {
   "display_name": "Python 2",
   "language": "python",
   "name": "python2"
  },
  "language_info": {
   "codemirror_mode": {
    "name": "ipython",
    "version": 2
   },
   "file_extension": ".py",
   "mimetype": "text/x-python",
   "name": "python",
   "nbconvert_exporter": "python",
   "pygments_lexer": "ipython2",
   "version": "2.7.11"
  }
 },
 "nbformat": 4,
 "nbformat_minor": 0
}
