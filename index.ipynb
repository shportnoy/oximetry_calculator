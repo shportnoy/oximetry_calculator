{
 "cells": [
  {
   "cell_type": "markdown",
   "metadata": {
    "collapsed": false
   },
   "source": [
    "# Read in parameter text file ('par_values.txt')"
   ]
  },
  {
   "cell_type": "code",
   "execution_count": 3,
   "metadata": {
    "collapsed": false
   },
   "outputs": [],
   "source": [
    "f = open('par_values.txt')\n",
    "par_dict = {}\n",
    "for line in f:\n",
    "    line = line.strip()\n",
    "    if not line: continue\n",
    "\n",
    "    if line.startswith('Parameters'):\n",
    "        if line not in par_dict: par_dict[line] = []\n",
    "        heading = line\n",
    "        continue\n",
    "    par_dict[heading].append(line)\n",
    "\n",
    "f.close()"
   ]
  },
  {
   "cell_type": "markdown",
   "metadata": {},
   "source": [
    "# Select appropriate parameters for your blood type (adult vs. fetal) and field strength (1.5T vs. 3T)"
   ]
  },
  {
   "cell_type": "code",
   "execution_count": 4,
   "metadata": {
    "collapsed": false
   },
   "outputs": [
    {
     "ename": "AttributeError",
     "evalue": "'module' object has no attribute 'fetch_model_pars'",
     "output_type": "error",
     "traceback": [
      "\u001b[1;31m---------------------------------------------------------------------------\u001b[0m",
      "\u001b[1;31mAttributeError\u001b[0m                            Traceback (most recent call last)",
      "\u001b[1;32m<ipython-input-4-dc2aa1c8c4e4>\u001b[0m in \u001b[0;36m<module>\u001b[1;34m()\u001b[0m\n\u001b[0;32m      1\u001b[0m \u001b[1;32mimport\u001b[0m \u001b[0msome_funcs\u001b[0m \u001b[1;32mas\u001b[0m \u001b[0msf\u001b[0m\u001b[1;33m\u001b[0m\u001b[0m\n\u001b[0;32m      2\u001b[0m \u001b[1;31m#Fetch parameters for fetal blood at 1.5T.\u001b[0m\u001b[1;33m\u001b[0m\u001b[1;33m\u001b[0m\u001b[0m\n\u001b[1;32m----> 3\u001b[1;33m \u001b[0mmodel_pars\u001b[0m \u001b[1;33m=\u001b[0m \u001b[0msf\u001b[0m\u001b[1;33m.\u001b[0m\u001b[0mfetch_model_pars\u001b[0m\u001b[1;33m(\u001b[0m\u001b[0mpar_dict\u001b[0m\u001b[1;33m,\u001b[0m \u001b[0mblood_type\u001b[0m\u001b[1;33m=\u001b[0m\u001b[1;34m'Fetal'\u001b[0m\u001b[1;33m,\u001b[0m \u001b[0mfield_strength\u001b[0m\u001b[1;33m=\u001b[0m\u001b[1;34m'1.5'\u001b[0m\u001b[1;33m)\u001b[0m\u001b[1;33m\u001b[0m\u001b[0m\n\u001b[0m",
      "\u001b[1;31mAttributeError\u001b[0m: 'module' object has no attribute 'fetch_model_pars'"
     ]
    }
   ],
   "source": [
    "import some_funcs as sf\n",
    "#Fetch parameters for fetal blood at 1.5T.\n",
    "model_pars = sf.fetch_model_pars(par_dict, blood_type='Fetal', field_strength='1.5')  "
   ]
  },
  {
   "cell_type": "markdown",
   "metadata": {},
   "source": [
    "## Calculate intermediate coefficients, taking refocusing interval for T2 acquisition into account"
   ]
  },
  {
   "cell_type": "code",
   "execution_count": 5,
   "metadata": {
    "collapsed": false
   },
   "outputs": [
    {
     "ename": "NameError",
     "evalue": "name 'model_pars' is not defined",
     "output_type": "error",
     "traceback": [
      "\u001b[1;31m---------------------------------------------------------------------------\u001b[0m",
      "\u001b[1;31mNameError\u001b[0m                                 Traceback (most recent call last)",
      "\u001b[1;32m<ipython-input-5-06bda76ecaf8>\u001b[0m in \u001b[0;36m<module>\u001b[1;34m()\u001b[0m\n\u001b[1;32m----> 1\u001b[1;33m \u001b[0mcoeff_list\u001b[0m \u001b[1;33m=\u001b[0m \u001b[0msf\u001b[0m\u001b[1;33m.\u001b[0m\u001b[0mcalc_coeffs\u001b[0m\u001b[1;33m(\u001b[0m\u001b[0mmodel_pars\u001b[0m\u001b[1;33m,\u001b[0m \u001b[0mtau_180\u001b[0m\u001b[1;33m=\u001b[0m\u001b[1;36m0.016\u001b[0m\u001b[1;33m)\u001b[0m \u001b[1;31m#tau_180 is refocusing interval (in seconds)\u001b[0m\u001b[1;33m\u001b[0m\u001b[0m\n\u001b[0m",
      "\u001b[1;31mNameError\u001b[0m: name 'model_pars' is not defined"
     ]
    }
   ],
   "source": [
    "coeff_list = sf.calc_coeffs(model_pars, tau_180=0.016) #tau_180 is refocusing interval (in seconds)"
   ]
  },
  {
   "cell_type": "markdown",
   "metadata": {},
   "source": [
    "## Calculate hematocrit (Hct), given an assumed oxygen-saturation (sO2) and T1"
   ]
  },
  {
   "cell_type": "code",
   "execution_count": 6,
   "metadata": {
    "collapsed": false
   },
   "outputs": [
    {
     "ename": "NameError",
     "evalue": "name 'coeff_list' is not defined",
     "output_type": "error",
     "traceback": [
      "\u001b[1;31m---------------------------------------------------------------------------\u001b[0m",
      "\u001b[1;31mNameError\u001b[0m                                 Traceback (most recent call last)",
      "\u001b[1;32m<ipython-input-6-74cd24fcd2ba>\u001b[0m in \u001b[0;36m<module>\u001b[1;34m()\u001b[0m\n\u001b[1;32m----> 1\u001b[1;33m \u001b[0msf\u001b[0m\u001b[1;33m.\u001b[0m\u001b[0mHct_from_sO2_T1\u001b[0m\u001b[1;33m(\u001b[0m\u001b[0mcoeff_list\u001b[0m\u001b[1;33m,\u001b[0m \u001b[0msO2\u001b[0m\u001b[1;33m=\u001b[0m\u001b[1;36m0.85\u001b[0m\u001b[1;33m,\u001b[0m \u001b[0mT1\u001b[0m\u001b[1;33m=\u001b[0m\u001b[1;36m1.5\u001b[0m\u001b[1;33m)\u001b[0m\u001b[1;33m\u001b[0m\u001b[0m\n\u001b[0m",
      "\u001b[1;31mNameError\u001b[0m: name 'coeff_list' is not defined"
     ]
    }
   ],
   "source": [
    "sf.Hct_from_sO2_T1(coeff_list, sO2=0.85, T1=1.5)"
   ]
  },
  {
   "cell_type": "markdown",
   "metadata": {},
   "source": [
    "## Calculate oxygen-saturation (sO2), given an assumed hematocrit (Hct) and T2 "
   ]
  },
  {
   "cell_type": "code",
   "execution_count": 7,
   "metadata": {
    "collapsed": false
   },
   "outputs": [
    {
     "ename": "NameError",
     "evalue": "name 'coeff_list' is not defined",
     "output_type": "error",
     "traceback": [
      "\u001b[1;31m---------------------------------------------------------------------------\u001b[0m",
      "\u001b[1;31mNameError\u001b[0m                                 Traceback (most recent call last)",
      "\u001b[1;32m<ipython-input-7-7aa033d023ae>\u001b[0m in \u001b[0;36m<module>\u001b[1;34m()\u001b[0m\n\u001b[1;32m----> 1\u001b[1;33m \u001b[0msf\u001b[0m\u001b[1;33m.\u001b[0m\u001b[0msO2_from_Hct_T2\u001b[0m\u001b[1;33m(\u001b[0m\u001b[0mcoeff_list\u001b[0m\u001b[1;33m,\u001b[0m \u001b[0mHct\u001b[0m\u001b[1;33m=\u001b[0m\u001b[1;36m0.45\u001b[0m\u001b[1;33m,\u001b[0m \u001b[0mT2\u001b[0m\u001b[1;33m=\u001b[0m\u001b[1;36m0.1\u001b[0m\u001b[1;33m)\u001b[0m\u001b[1;33m\u001b[0m\u001b[0m\n\u001b[0m",
      "\u001b[1;31mNameError\u001b[0m: name 'coeff_list' is not defined"
     ]
    }
   ],
   "source": [
    "sf.sO2_from_Hct_T2(coeff_list, Hct=0.45, T2=0.1)"
   ]
  },
  {
   "cell_type": "markdown",
   "metadata": {},
   "source": [
    "## Calculate oxygen saturation (sO2) and hematocrit (Hct) from T1 and T2 "
   ]
  },
  {
   "cell_type": "code",
   "execution_count": 8,
   "metadata": {
    "collapsed": false
   },
   "outputs": [
    {
     "ename": "NameError",
     "evalue": "name 'coeff_list' is not defined",
     "output_type": "error",
     "traceback": [
      "\u001b[1;31m---------------------------------------------------------------------------\u001b[0m",
      "\u001b[1;31mNameError\u001b[0m                                 Traceback (most recent call last)",
      "\u001b[1;32m<ipython-input-8-b8c592f35cf6>\u001b[0m in \u001b[0;36m<module>\u001b[1;34m()\u001b[0m\n\u001b[1;32m----> 1\u001b[1;33m \u001b[0msf\u001b[0m\u001b[1;33m.\u001b[0m\u001b[0mHct_sO2_from_T1_T2\u001b[0m\u001b[1;33m(\u001b[0m\u001b[0mcoeff_list\u001b[0m\u001b[1;33m,\u001b[0m \u001b[0mT1\u001b[0m\u001b[1;33m=\u001b[0m\u001b[1;36m1.5\u001b[0m\u001b[1;33m,\u001b[0m \u001b[0mT2\u001b[0m\u001b[1;33m=\u001b[0m\u001b[1;36m0.1\u001b[0m\u001b[1;33m)\u001b[0m\u001b[1;33m\u001b[0m\u001b[0m\n\u001b[0m",
      "\u001b[1;31mNameError\u001b[0m: name 'coeff_list' is not defined"
     ]
    }
   ],
   "source": [
    "sf.Hct_sO2_from_T1_T2(coeff_list, T1=1.5, T2=0.1)"
   ]
  }
 ],
 "metadata": {
  "kernelspec": {
   "display_name": "Python 2",
   "language": "python",
   "name": "python2"
  },
  "language_info": {
   "codemirror_mode": {
    "name": "ipython",
    "version": 2
   },
   "file_extension": ".py",
   "mimetype": "text/x-python",
   "name": "python",
   "nbconvert_exporter": "python",
   "pygments_lexer": "ipython2",
   "version": "2.7.11"
  }
 },
 "nbformat": 4,
 "nbformat_minor": 0
}
