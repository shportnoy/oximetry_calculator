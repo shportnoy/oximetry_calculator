{
 "cells": [
  {
   "cell_type": "markdown",
   "metadata": {},
   "source": [
    "# Step 1: select blood type, field strength and refocusing interval:\n",
    "### To get started, \"execute\" the following cell by clicking on it and pressing Ctrl+Enter.  Then choose appropriate parameters."
   ]
  },
  {
   "cell_type": "code",
   "execution_count": null,
   "metadata": {
    "collapsed": false,
    "scrolled": true
   },
   "outputs": [],
   "source": [
    "import some_funcs as sf\n",
    "%matplotlib inline\n",
    "field_strength, blood_type, tau_180 = sf.display_widgets()"
   ]
  },
  {
   "cell_type": "markdown",
   "metadata": {},
   "source": [
    "# Step 2: load appropriate parameters:\n",
    "### Execute the following cell (click and press Ctrl+Enter) and confirm that parameters listed below are consistent with your choices."
   ]
  },
  {
   "cell_type": "code",
   "execution_count": null,
   "metadata": {
    "collapsed": false
   },
   "outputs": [],
   "source": [
    "model_pars = sf.fetch_model_pars(sf.par_dict, blood_type=blood_type.value, field_strength=field_strength.value)  \n",
    "coeff_list = sf.calc_coeffs(model_pars, tau_180=0.001*tau_180.value) "
   ]
  },
  {
   "cell_type": "markdown",
   "metadata": {},
   "source": [
    "# Step 3: Choose from options 1-3 below.  To make your choice, execute the cell immediately below your chosen option.  Then enter the appropriate information in the fields provided.  To obtain the solution, execute the cell below the text which reads 'Calculate!'."
   ]
  },
  {
   "cell_type": "markdown",
   "metadata": {},
   "source": [
    "# Option 1: calculate hematocrit (Hct) from oxygen-saturation (sO<sub>2</sub>) and T<sub>1</sub>:\n",
    "## 1) Enter sO<sub>2</sub> and T<sub>1</sub>"
   ]
  },
  {
   "cell_type": "code",
   "execution_count": null,
   "metadata": {
    "collapsed": false
   },
   "outputs": [],
   "source": [
    "sO2, T1 = sf.display_sO2_T1_boxes()"
   ]
  },
  {
   "cell_type": "markdown",
   "metadata": {},
   "source": [
    "## 2) Calculate!"
   ]
  },
  {
   "cell_type": "code",
   "execution_count": null,
   "metadata": {
    "collapsed": false
   },
   "outputs": [],
   "source": [
    "Hct_sol = sf.Hct_from_sO2_T1(coeff_list, sO2=sO2.value, T1=0.001*T1.value)\n",
    "sf.plot_T1_Hct(model_pars, Hct_sol, sO2=sO2.value, T1=0.001*T1.value)"
   ]
  },
  {
   "cell_type": "markdown",
   "metadata": {},
   "source": [
    "# Option 2: calculate oxygen-saturation (sO<sub>2</sub>) from hematocrit (Hct) and T<sub>2</sub>: \n",
    "## 1) Enter Hct and T<sub>2</sub>:"
   ]
  },
  {
   "cell_type": "code",
   "execution_count": null,
   "metadata": {
    "collapsed": false
   },
   "outputs": [],
   "source": [
    "Hct, T2 = sf.display_Hct_T2_boxes()"
   ]
  },
  {
   "cell_type": "markdown",
   "metadata": {},
   "source": [
    "## 2) Calculate!\n",
    "### NOTE: We are solving a quadratic, so there will be TWO solutions for sO<sub>2</sub>. Typically only one of these will be physical (i.e. 0&lt;sO<sub>2</sub>&lt;1).  Physical solutions are plotted below."
   ]
  },
  {
   "cell_type": "code",
   "execution_count": null,
   "metadata": {
    "collapsed": false
   },
   "outputs": [],
   "source": [
    "sO2_sol = sf.sO2_from_Hct_T2(coeff_list, Hct=Hct.value, T2=0.001*T2.value)\n",
    "sf.plot_T2_sO2(model_pars, sO2_sol, tau_180=0.001*tau_180.value, Hct=Hct.value, T2=0.001*T2.value)"
   ]
  },
  {
   "cell_type": "markdown",
   "metadata": {},
   "source": [
    "# Option 3: calculate oxygen-saturation (sO<sub>2</sub>) and hematocrit (Hct) from T<sub>1</sub> and T<sub>2</sub>: \n",
    "## 1) Enter T<sub>1</sub> and T<sub>2</sub>:"
   ]
  },
  {
   "cell_type": "code",
   "execution_count": null,
   "metadata": {
    "collapsed": false
   },
   "outputs": [],
   "source": [
    "T1, T2 = sf.display_T1_T2_boxes()"
   ]
  },
  {
   "cell_type": "markdown",
   "metadata": {},
   "source": [
    "## 2) Calculate!\n",
    "### NOTE: We are solving a cubic, so there will be THREE solutions for (sO<sub>2</sub>, Hct).  In most cases, only one solution will be physical (i.e. 0&lt;sO<sub>2</sub>&lt;1 AND 0&lt;Hct&lt;1).  Physical solutions are plotted below. "
   ]
  },
  {
   "cell_type": "code",
   "execution_count": null,
   "metadata": {
    "collapsed": false
   },
   "outputs": [],
   "source": [
    "Hct_sol, sO2_sol = sf.Hct_sO2_from_T1_T2(coeff_list, T1=0.001*T1.value, T2=0.001*T2.value)\n",
    "sf.plot_T1_T2_Hct_sO2(coeff_list, Hct_sol, sO2_sol, T1=0.001*T1.value, T2=0.001*T2.value)"
   ]
  },
  {
   "cell_type": "markdown",
   "metadata": {},
   "source": [
    "## For interpretation of cases where there is no physical solution or more than one physical solution, please refer to: Portnoy et al, <i>Magn Reson Med</i>, 2017, doi: 10.1002/mrm.26599."
   ]
  }
 ],
 "metadata": {
  "kernelspec": {
   "display_name": "Python 2",
   "language": "python",
   "name": "python2"
  },
  "language_info": {
   "codemirror_mode": {
    "name": "ipython",
    "version": 2
   },
   "file_extension": ".py",
   "mimetype": "text/x-python",
   "name": "python",
   "nbconvert_exporter": "python",
   "pygments_lexer": "ipython2",
   "version": "2.7.12"
  }
 },
 "nbformat": 4,
 "nbformat_minor": 0
}
